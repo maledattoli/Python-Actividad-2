{
 "cells": [
  {
   "cell_type": "markdown",
   "metadata": {},
   "source": [
    "# Ejercicio10"
   ]
  },
  {
   "cell_type": "code",
   "execution_count": null,
   "metadata": {},
   "outputs": [],
   "source": [
    "import sys\n",
    "import os\n",
    "#obtener la ruta absoluta del directorio raiz del poroyecto\n",
    "sys.path.append(os.path.abspath(\"../src\"))"
   ]
  },
  {
   "cell_type": "code",
   "execution_count": null,
   "metadata": {},
   "outputs": [],
   "source": [
    "from funciones import imprimir_tabla, informar_ranking_final, recorrer_stats"
   ]
  },
  {
   "cell_type": "code",
   "execution_count": null,
   "metadata": {},
   "outputs": [],
   "source": [
    "rounds = [{\n",
    "'Shadow': {'kills': 2, 'assists': 1, 'deaths': True},\n",
    "'Blaze': {'kills': 1, 'assists': 0, 'deaths': False},\n",
    "'Viper': {'kills': 1, 'assists': 2, 'deaths': True},\n",
    "'Frost': {'kills': 0, 'assists': 1, 'deaths': False},\n",
    "'Reaper': {'kills': 1, 'assists': 1, 'deaths': False}\n",
    "},\n",
    "{\n",
    "'Shadow': {'kills': 0, 'assists': 2, 'deaths': False},\n",
    "'Blaze': {'kills': 2, 'assists': 0, 'deaths': True},\n",
    "'Viper': {'kills': 1, 'assists': 1, 'deaths': False},\n",
    "'Frost': {'kills': 2, 'assists': 1, 'deaths': True},\n",
    "'Reaper': {'kills': 0, 'assists': 1, 'deaths': False}\n",
    "},\n",
    "{\n",
    "'Shadow': {'kills': 1, 'assists': 0, 'deaths': False},\n",
    "'Blaze': {'kills': 2, 'assists': 2, 'deaths': True},\n",
    "'Viper': {'kills': 1, 'assists': 1, 'deaths': True},\n",
    "'Frost': {'kills': 0, 'assists': 1, 'deaths': False},\n",
    "'Reaper': {'kills': 1, 'assists': 1, 'deaths': False}\n",
    "},\n",
    "{\n",
    "'Shadow': {'kills': 2, 'assists': 1, 'deaths': False},\n",
    "'Blaze': {'kills': 1, 'assists': 0, 'deaths': True},\n",
    "'Viper': {'kills': 0, 'assists': 2, 'deaths': False},\n",
    "'Frost': {'kills': 1, 'assists': 1, 'deaths': True},\n",
    "'Reaper': {'kills': 1, 'assists': 1, 'deaths': False}\n",
    "},\n",
    "{\n",
    "'Shadow': {'kills': 1, 'assists': 2, 'deaths': True},\n",
    "'Blaze': {'kills': 0, 'assists': 1, 'deaths': False},\n",
    "'Viper': {'kills': 2, 'assists': 0, 'deaths': True},\n",
    "'Frost': {'kills': 1, 'assists': 1, 'deaths': False},\n",
    "'Reaper': {'kills': 1, 'assists': 1, 'deaths': True}\n",
    "}\n",
    "]"
   ]
  },
  {
   "cell_type": "code",
   "execution_count": null,
   "metadata": {},
   "outputs": [],
   "source": [
    "jugadores = {\n",
    "'Shadow': {'kills': 0, 'assists': 0, 'deaths': 0, 'MVPs': 0, 'puntos': 0},\n",
    "'Blaze': {'kills': 0, 'assists': 0, 'deaths': 0, 'MVPs': 0, 'puntos': 0},\n",
    "'Viper': {'kills': 0, 'assists': 0, 'deaths': 0, 'MVPs': 0, 'puntos': 0},\n",
    "'Frost': {'kills': 0, 'assists': 0, 'deaths': 0, 'MVPs': 0, 'puntos': 0},\n",
    "'Reaper': {'kills': 0, 'assists': 0, 'deaths': 0, 'MVPs': 0, 'puntos': 0}\n",
    "}"
   ]
  },
  {
   "cell_type": "code",
   "execution_count": null,
   "metadata": {},
   "outputs": [
    {
     "name": "stdout",
     "output_type": "stream",
     "text": [
      "\n",
      "Ranking ronda 1:\n",
      "Jugador     Kills Asistencias Muertes  Puntos\n",
      "--------------------------------------------------\n",
      "Shadow      2              1       1       6\n",
      "Viper       1              2       1       4\n",
      "Reaper      1              1       0       4\n",
      "Blaze       1              0       0       3\n",
      "Frost       0              1       0       1\n",
      "--------------------------------------------------\n",
      "EL MVP de la ronda fue: Shadow\n",
      "--------------------------------------------------\n",
      "\n",
      "Ranking ronda 2:\n",
      "Jugador     Kills Asistencias Muertes  Puntos\n",
      "--------------------------------------------------\n",
      "Shadow      2              3       1       8\n",
      "Blaze       3              0       1       8\n",
      "Viper       2              3       1       8\n",
      "Frost       2              2       1       7\n",
      "Reaper      1              2       0       5\n",
      "--------------------------------------------------\n",
      "EL MVP de la ronda fue: Frost\n",
      "--------------------------------------------------\n",
      "\n",
      "Ranking ronda 3:\n",
      "Jugador     Kills Asistencias Muertes  Puntos\n",
      "--------------------------------------------------\n",
      "Blaze       5              2       2      15\n",
      "Shadow      3              3       1      11\n",
      "Viper       3              4       2      11\n",
      "Reaper      2              3       0       9\n",
      "Frost       2              3       1       8\n",
      "--------------------------------------------------\n",
      "EL MVP de la ronda fue: Blaze\n",
      "--------------------------------------------------\n",
      "\n",
      "Ranking ronda 4:\n",
      "Jugador     Kills Asistencias Muertes  Puntos\n",
      "--------------------------------------------------\n",
      "Shadow      5              4       1      18\n",
      "Blaze       6              2       3      17\n",
      "Viper       3              6       2      13\n",
      "Reaper      3              4       0      13\n",
      "Frost       3              4       2      11\n",
      "--------------------------------------------------\n",
      "EL MVP de la ronda fue: Shadow\n",
      "--------------------------------------------------\n",
      "\n",
      "Ranking ronda 5:\n",
      "Jugador     Kills Asistencias Muertes  Puntos\n",
      "--------------------------------------------------\n",
      "Shadow      6              6       2      22\n",
      "Blaze       6              3       3      18\n",
      "Viper       5              6       3      18\n",
      "Reaper      4              5       1      16\n",
      "Frost       4              5       2      15\n",
      "--------------------------------------------------\n",
      "EL MVP de la ronda fue: Viper\n",
      "--------------------------------------------------\n",
      "\n",
      "Ranking ronda Final:\n",
      "Jugador     Kills Asistencias Muertes  Puntos   MVPs\n",
      "--------------------------------------------------\n",
      "Shadow      6              6       2      22     2\n",
      "Blaze       6              3       3      18     1\n",
      "Viper       5              6       3      18     1\n",
      "Reaper      4              5       1      16     0\n",
      "Frost       4              5       2      15     1\n",
      "--------------------------------------------------\n"
     ]
    }
   ],
   "source": [
    "\n",
    "for i, round in enumerate(rounds): \n",
    "    imprimir_tabla(i+1)\n",
    "    jugadores= recorrer_stats(round, jugadores)\n",
    "    \n",
    "#el sorted necesita tuplas, x eso paso a tuplas, se entra en las stats y se recorre el diccionario con las stats ordenando por puntos y se ordena de mayor a menor\n",
    "jugadores = dict(sorted(jugadores.items(), key=lambda jugador: jugador[1]['puntos'], reverse=True))\n",
    "\n",
    "informar_ranking_final(jugadores)"
   ]
  }
 ],
 "metadata": {
  "kernelspec": {
   "display_name": "venv",
   "language": "python",
   "name": "python3"
  },
  "language_info": {
   "codemirror_mode": {
    "name": "ipython",
    "version": 3
   },
   "file_extension": ".py",
   "mimetype": "text/x-python",
   "name": "python",
   "nbconvert_exporter": "python",
   "pygments_lexer": "ipython3",
   "version": "3.12.9"
  }
 },
 "nbformat": 4,
 "nbformat_minor": 2
}
